{
 "cells": [
  {
   "cell_type": "markdown",
   "id": "da87e767",
   "metadata": {},
   "source": [
    "# Predicting the stock market\n",
    "In this project, I'll be working with data from the S&P500 Index.\n",
    "\n",
    "I'll be using historical data on the price of the S&P500 Index to make predictions about future prices. Predicting whether an index goes up or down helps forecast how the stock market as a whole performs. Since stocks tend to correlate with how well the economy as a whole is performs, it can also help with economic forecasts.\n",
    "\n",
    "The columns of the dataset are:\n",
    "- Date -- The date of the record.\n",
    "- Open -- The opening price of the day (when trading starts).\n",
    "- High -- The highest trade price during the day.\n",
    "- Low -- The lowest trade price during the day.\n",
    "- Close -- The closing price for the day (when trading is finished).\n",
    "- Volume -- The number of shares traded.\n",
    "- Adj Close -- The daily closing price, adjusted retroactively to include any corporate actions."
   ]
  },
  {
   "cell_type": "code",
   "execution_count": 1,
   "id": "831290f6",
   "metadata": {},
   "outputs": [],
   "source": [
    "import pandas as pd\n",
    "import numpy as np\n",
    "from sklearn.metrics import mean_squared_error\n",
    "from sklearn.linear_model import LinearRegression\n",
    "from datetime import datetime"
   ]
  },
  {
   "cell_type": "code",
   "execution_count": 2,
   "id": "a00908ff",
   "metadata": {},
   "outputs": [
    {
     "data": {
      "text/html": [
       "<div>\n",
       "<style scoped>\n",
       "    .dataframe tbody tr th:only-of-type {\n",
       "        vertical-align: middle;\n",
       "    }\n",
       "\n",
       "    .dataframe tbody tr th {\n",
       "        vertical-align: top;\n",
       "    }\n",
       "\n",
       "    .dataframe thead th {\n",
       "        text-align: right;\n",
       "    }\n",
       "</style>\n",
       "<table border=\"1\" class=\"dataframe\">\n",
       "  <thead>\n",
       "    <tr style=\"text-align: right;\">\n",
       "      <th></th>\n",
       "      <th>Date</th>\n",
       "      <th>Open</th>\n",
       "      <th>High</th>\n",
       "      <th>Low</th>\n",
       "      <th>Close</th>\n",
       "      <th>Volume</th>\n",
       "      <th>Adj Close</th>\n",
       "    </tr>\n",
       "  </thead>\n",
       "  <tbody>\n",
       "    <tr>\n",
       "      <th>16589</th>\n",
       "      <td>1950-01-03</td>\n",
       "      <td>16.660000</td>\n",
       "      <td>16.660000</td>\n",
       "      <td>16.660000</td>\n",
       "      <td>16.660000</td>\n",
       "      <td>1.260000e+06</td>\n",
       "      <td>16.660000</td>\n",
       "    </tr>\n",
       "    <tr>\n",
       "      <th>16588</th>\n",
       "      <td>1950-01-04</td>\n",
       "      <td>16.850000</td>\n",
       "      <td>16.850000</td>\n",
       "      <td>16.850000</td>\n",
       "      <td>16.850000</td>\n",
       "      <td>1.890000e+06</td>\n",
       "      <td>16.850000</td>\n",
       "    </tr>\n",
       "    <tr>\n",
       "      <th>16587</th>\n",
       "      <td>1950-01-05</td>\n",
       "      <td>16.930000</td>\n",
       "      <td>16.930000</td>\n",
       "      <td>16.930000</td>\n",
       "      <td>16.930000</td>\n",
       "      <td>2.550000e+06</td>\n",
       "      <td>16.930000</td>\n",
       "    </tr>\n",
       "    <tr>\n",
       "      <th>16586</th>\n",
       "      <td>1950-01-06</td>\n",
       "      <td>16.980000</td>\n",
       "      <td>16.980000</td>\n",
       "      <td>16.980000</td>\n",
       "      <td>16.980000</td>\n",
       "      <td>2.010000e+06</td>\n",
       "      <td>16.980000</td>\n",
       "    </tr>\n",
       "    <tr>\n",
       "      <th>16585</th>\n",
       "      <td>1950-01-09</td>\n",
       "      <td>17.080000</td>\n",
       "      <td>17.080000</td>\n",
       "      <td>17.080000</td>\n",
       "      <td>17.080000</td>\n",
       "      <td>2.520000e+06</td>\n",
       "      <td>17.080000</td>\n",
       "    </tr>\n",
       "    <tr>\n",
       "      <th>...</th>\n",
       "      <td>...</td>\n",
       "      <td>...</td>\n",
       "      <td>...</td>\n",
       "      <td>...</td>\n",
       "      <td>...</td>\n",
       "      <td>...</td>\n",
       "      <td>...</td>\n",
       "    </tr>\n",
       "    <tr>\n",
       "      <th>4</th>\n",
       "      <td>2015-12-01</td>\n",
       "      <td>2082.929932</td>\n",
       "      <td>2103.370117</td>\n",
       "      <td>2082.929932</td>\n",
       "      <td>2102.629883</td>\n",
       "      <td>3.712120e+09</td>\n",
       "      <td>2102.629883</td>\n",
       "    </tr>\n",
       "    <tr>\n",
       "      <th>3</th>\n",
       "      <td>2015-12-02</td>\n",
       "      <td>2101.709961</td>\n",
       "      <td>2104.270020</td>\n",
       "      <td>2077.110107</td>\n",
       "      <td>2079.510010</td>\n",
       "      <td>3.950640e+09</td>\n",
       "      <td>2079.510010</td>\n",
       "    </tr>\n",
       "    <tr>\n",
       "      <th>2</th>\n",
       "      <td>2015-12-03</td>\n",
       "      <td>2080.709961</td>\n",
       "      <td>2085.000000</td>\n",
       "      <td>2042.349976</td>\n",
       "      <td>2049.620117</td>\n",
       "      <td>4.306490e+09</td>\n",
       "      <td>2049.620117</td>\n",
       "    </tr>\n",
       "    <tr>\n",
       "      <th>1</th>\n",
       "      <td>2015-12-04</td>\n",
       "      <td>2051.239990</td>\n",
       "      <td>2093.840088</td>\n",
       "      <td>2051.239990</td>\n",
       "      <td>2091.689941</td>\n",
       "      <td>4.214910e+09</td>\n",
       "      <td>2091.689941</td>\n",
       "    </tr>\n",
       "    <tr>\n",
       "      <th>0</th>\n",
       "      <td>2015-12-07</td>\n",
       "      <td>2090.419922</td>\n",
       "      <td>2090.419922</td>\n",
       "      <td>2066.780029</td>\n",
       "      <td>2077.070068</td>\n",
       "      <td>4.043820e+09</td>\n",
       "      <td>2077.070068</td>\n",
       "    </tr>\n",
       "  </tbody>\n",
       "</table>\n",
       "<p>16590 rows × 7 columns</p>\n",
       "</div>"
      ],
      "text/plain": [
       "            Date         Open         High          Low        Close  \\\n",
       "16589 1950-01-03    16.660000    16.660000    16.660000    16.660000   \n",
       "16588 1950-01-04    16.850000    16.850000    16.850000    16.850000   \n",
       "16587 1950-01-05    16.930000    16.930000    16.930000    16.930000   \n",
       "16586 1950-01-06    16.980000    16.980000    16.980000    16.980000   \n",
       "16585 1950-01-09    17.080000    17.080000    17.080000    17.080000   \n",
       "...          ...          ...          ...          ...          ...   \n",
       "4     2015-12-01  2082.929932  2103.370117  2082.929932  2102.629883   \n",
       "3     2015-12-02  2101.709961  2104.270020  2077.110107  2079.510010   \n",
       "2     2015-12-03  2080.709961  2085.000000  2042.349976  2049.620117   \n",
       "1     2015-12-04  2051.239990  2093.840088  2051.239990  2091.689941   \n",
       "0     2015-12-07  2090.419922  2090.419922  2066.780029  2077.070068   \n",
       "\n",
       "             Volume    Adj Close  \n",
       "16589  1.260000e+06    16.660000  \n",
       "16588  1.890000e+06    16.850000  \n",
       "16587  2.550000e+06    16.930000  \n",
       "16586  2.010000e+06    16.980000  \n",
       "16585  2.520000e+06    17.080000  \n",
       "...             ...          ...  \n",
       "4      3.712120e+09  2102.629883  \n",
       "3      3.950640e+09  2079.510010  \n",
       "2      4.306490e+09  2049.620117  \n",
       "1      4.214910e+09  2091.689941  \n",
       "0      4.043820e+09  2077.070068  \n",
       "\n",
       "[16590 rows x 7 columns]"
      ]
     },
     "execution_count": 2,
     "metadata": {},
     "output_type": "execute_result"
    }
   ],
   "source": [
    "df = pd.read_csv('sphist.csv')\n",
    "df['Date'] = pd.to_datetime(df['Date'])\n",
    "df = df.sort_values('Date')\n",
    "df"
   ]
  },
  {
   "cell_type": "markdown",
   "id": "0675f353",
   "metadata": {},
   "source": [
    "I am going to add three indicators to the data set:\n",
    "- The average price from the past 5 days.\n",
    "- The average price for the past 30 days.\n",
    "- The average price for the past 365 days."
   ]
  },
  {
   "cell_type": "code",
   "execution_count": 3,
   "id": "60f80a3b",
   "metadata": {},
   "outputs": [
    {
     "name": "stdout",
     "output_type": "stream",
     "text": [
      "head:\n",
      "          Date       Open       High        Low      Close     Volume  \\\n",
      "0  1950-01-03  16.660000  16.660000  16.660000  16.660000  1260000.0   \n",
      "1  1950-01-04  16.850000  16.850000  16.850000  16.850000  1890000.0   \n",
      "2  1950-01-05  16.930000  16.930000  16.930000  16.930000  2550000.0   \n",
      "3  1950-01-06  16.980000  16.980000  16.980000  16.980000  2010000.0   \n",
      "4  1950-01-09  17.080000  17.080000  17.080000  17.080000  2520000.0   \n",
      "5  1950-01-10  17.030001  17.030001  17.030001  17.030001  2160000.0   \n",
      "6  1950-01-11  17.090000  17.090000  17.090000  17.090000  2630000.0   \n",
      "7  1950-01-12  16.760000  16.760000  16.760000  16.760000  2970000.0   \n",
      "8  1950-01-13  16.670000  16.670000  16.670000  16.670000  3330000.0   \n",
      "9  1950-01-16  16.719999  16.719999  16.719999  16.719999  1460000.0   \n",
      "10 1950-01-17  16.860001  16.860001  16.860001  16.860001  1790000.0   \n",
      "11 1950-01-18  16.850000  16.850000  16.850000  16.850000  1570000.0   \n",
      "12 1950-01-19  16.870001  16.870001  16.870001  16.870001  1170000.0   \n",
      "13 1950-01-20  16.900000  16.900000  16.900000  16.900000  1440000.0   \n",
      "14 1950-01-23  16.920000  16.920000  16.920000  16.920000  1340000.0   \n",
      "15 1950-01-24  16.860001  16.860001  16.860001  16.860001  1250000.0   \n",
      "16 1950-01-25  16.740000  16.740000  16.740000  16.740000  1700000.0   \n",
      "17 1950-01-26  16.730000  16.730000  16.730000  16.730000  1150000.0   \n",
      "18 1950-01-27  16.820000  16.820000  16.820000  16.820000  1250000.0   \n",
      "19 1950-01-30  17.020000  17.020000  17.020000  17.020000  1640000.0   \n",
      "20 1950-01-31  17.049999  17.049999  17.049999  17.049999  1690000.0   \n",
      "21 1950-02-01  17.049999  17.049999  17.049999  17.049999  1810000.0   \n",
      "22 1950-02-02  17.230000  17.230000  17.230000  17.230000  2040000.0   \n",
      "23 1950-02-03  17.290001  17.290001  17.290001  17.290001  2210000.0   \n",
      "24 1950-02-06  17.320000  17.320000  17.320000  17.320000  1490000.0   \n",
      "25 1950-02-07  17.230000  17.230000  17.230000  17.230000  1360000.0   \n",
      "26 1950-02-08  17.209999  17.209999  17.209999  17.209999  1470000.0   \n",
      "27 1950-02-09  17.280001  17.280001  17.280001  17.280001  1810000.0   \n",
      "28 1950-02-10  17.240000  17.240000  17.240000  17.240000  1790000.0   \n",
      "29 1950-02-14  17.059999  17.059999  17.059999  17.059999  2210000.0   \n",
      "30 1950-02-15  17.059999  17.059999  17.059999  17.059999  1730000.0   \n",
      "31 1950-02-16  16.990000  16.990000  16.990000  16.990000  1920000.0   \n",
      "32 1950-02-17  17.150000  17.150000  17.150000  17.150000  1940000.0   \n",
      "33 1950-02-20  17.200001  17.200001  17.200001  17.200001  1420000.0   \n",
      "34 1950-02-21  17.170000  17.170000  17.170000  17.170000  1260000.0   \n",
      "\n",
      "    Adj Close  mean_Close_5  mean_Close_30  mean_Close_365  \n",
      "0   16.660000           NaN            NaN             NaN  \n",
      "1   16.850000           NaN            NaN             NaN  \n",
      "2   16.930000           NaN            NaN             NaN  \n",
      "3   16.980000           NaN            NaN             NaN  \n",
      "4   17.080000           NaN            NaN             NaN  \n",
      "5   17.030001        16.900            NaN             NaN  \n",
      "6   17.090000        16.974            NaN             NaN  \n",
      "7   16.760000        17.022            NaN             NaN  \n",
      "8   16.670000        16.988            NaN             NaN  \n",
      "9   16.719999        16.926            NaN             NaN  \n",
      "10  16.860001        16.854            NaN             NaN  \n",
      "11  16.850000        16.820            NaN             NaN  \n",
      "12  16.870001        16.772            NaN             NaN  \n",
      "13  16.900000        16.794            NaN             NaN  \n",
      "14  16.920000        16.840            NaN             NaN  \n",
      "15  16.860001        16.880            NaN             NaN  \n",
      "16  16.740000        16.880            NaN             NaN  \n",
      "17  16.730000        16.858            NaN             NaN  \n",
      "18  16.820000        16.830            NaN             NaN  \n",
      "19  17.020000        16.814            NaN             NaN  \n",
      "20  17.049999        16.834            NaN             NaN  \n",
      "21  17.049999        16.872            NaN             NaN  \n",
      "22  17.230000        16.934            NaN             NaN  \n",
      "23  17.290001        17.034            NaN             NaN  \n",
      "24  17.320000        17.128            NaN             NaN  \n",
      "25  17.230000        17.188            NaN             NaN  \n",
      "26  17.209999        17.224            NaN             NaN  \n",
      "27  17.280001        17.256            NaN             NaN  \n",
      "28  17.240000        17.266            NaN             NaN  \n",
      "29  17.059999        17.256            NaN             NaN  \n",
      "30  17.059999        17.204      16.976667             NaN  \n",
      "31  16.990000        17.170      16.990000             NaN  \n",
      "32  17.150000        17.126      16.994667             NaN  \n",
      "33  17.200001        17.100      17.002000             NaN  \n",
      "34  17.170000        17.092      17.009333             NaN  \n",
      "tail:\n",
      "             Date         Open         High          Low        Close  \\\n",
      "16585 2015-12-01  2082.929932  2103.370117  2082.929932  2102.629883   \n",
      "16586 2015-12-02  2101.709961  2104.270020  2077.110107  2079.510010   \n",
      "16587 2015-12-03  2080.709961  2085.000000  2042.349976  2049.620117   \n",
      "16588 2015-12-04  2051.239990  2093.840088  2051.239990  2091.689941   \n",
      "16589 2015-12-07  2090.419922  2090.419922  2066.780029  2077.070068   \n",
      "\n",
      "             Volume    Adj Close  mean_Close_5  mean_Close_30  mean_Close_365  \n",
      "16585  3.712120e+09  2102.629883   2087.024023    2073.984998     2035.531178  \n",
      "16586  3.950640e+09  2079.510010   2090.231982    2076.283993     2035.914082  \n",
      "16587  4.306490e+09  2049.620117   2088.306006    2077.908659     2036.234356  \n",
      "16588  4.214910e+09  2091.689941   2080.456006    2078.931331     2036.507343  \n",
      "16589  4.043820e+09  2077.070068   2080.771973    2080.237329     2036.869425  \n"
     ]
    }
   ],
   "source": [
    "def add_mean_indicator_col(df, num_days, col):\n",
    "    indicator_name = 'mean_' + col + '_' + str(num_days)\n",
    "    close_prices = pd.Series(np.array(df[col]), index = np.array(df['Date']))\n",
    "    means = close_prices.rolling(window = num_days).apply(np.mean)\n",
    "    means = means.shift()\n",
    "    \n",
    "    means = means.reset_index()\n",
    "    means = means.rename(columns = {'index': 'Date', 0: indicator_name})\n",
    "    df_new = df.merge(means, left_on = 'Date', right_on = 'Date')\n",
    "    return df_new\n",
    "\n",
    "df = add_mean_indicator_col(df, 5, 'Close')\n",
    "df = add_mean_indicator_col(df, 30, 'Close')\n",
    "df = add_mean_indicator_col(df, 365, 'Close')\n",
    "\n",
    "print('head:\\n', df.head(35))\n",
    "print('tail:\\n', df.tail(5))"
   ]
  },
  {
   "cell_type": "code",
   "execution_count": 4,
   "id": "38b0d08f",
   "metadata": {},
   "outputs": [
    {
     "data": {
      "text/html": [
       "<div>\n",
       "<style scoped>\n",
       "    .dataframe tbody tr th:only-of-type {\n",
       "        vertical-align: middle;\n",
       "    }\n",
       "\n",
       "    .dataframe tbody tr th {\n",
       "        vertical-align: top;\n",
       "    }\n",
       "\n",
       "    .dataframe thead th {\n",
       "        text-align: right;\n",
       "    }\n",
       "</style>\n",
       "<table border=\"1\" class=\"dataframe\">\n",
       "  <thead>\n",
       "    <tr style=\"text-align: right;\">\n",
       "      <th></th>\n",
       "      <th>Date</th>\n",
       "      <th>Open</th>\n",
       "      <th>High</th>\n",
       "      <th>Low</th>\n",
       "      <th>Close</th>\n",
       "      <th>Volume</th>\n",
       "      <th>Adj Close</th>\n",
       "      <th>mean_Close_5</th>\n",
       "      <th>mean_Close_30</th>\n",
       "      <th>mean_Close_365</th>\n",
       "    </tr>\n",
       "  </thead>\n",
       "  <tbody>\n",
       "    <tr>\n",
       "      <th>365</th>\n",
       "      <td>1951-06-19</td>\n",
       "      <td>22.020000</td>\n",
       "      <td>22.020000</td>\n",
       "      <td>22.020000</td>\n",
       "      <td>22.020000</td>\n",
       "      <td>1100000.0</td>\n",
       "      <td>22.020000</td>\n",
       "      <td>21.800</td>\n",
       "      <td>21.703333</td>\n",
       "      <td>19.447726</td>\n",
       "    </tr>\n",
       "    <tr>\n",
       "      <th>366</th>\n",
       "      <td>1951-06-20</td>\n",
       "      <td>21.910000</td>\n",
       "      <td>21.910000</td>\n",
       "      <td>21.910000</td>\n",
       "      <td>21.910000</td>\n",
       "      <td>1120000.0</td>\n",
       "      <td>21.910000</td>\n",
       "      <td>21.900</td>\n",
       "      <td>21.683000</td>\n",
       "      <td>19.462411</td>\n",
       "    </tr>\n",
       "    <tr>\n",
       "      <th>367</th>\n",
       "      <td>1951-06-21</td>\n",
       "      <td>21.780001</td>\n",
       "      <td>21.780001</td>\n",
       "      <td>21.780001</td>\n",
       "      <td>21.780001</td>\n",
       "      <td>1100000.0</td>\n",
       "      <td>21.780001</td>\n",
       "      <td>21.972</td>\n",
       "      <td>21.659667</td>\n",
       "      <td>19.476274</td>\n",
       "    </tr>\n",
       "    <tr>\n",
       "      <th>368</th>\n",
       "      <td>1951-06-22</td>\n",
       "      <td>21.549999</td>\n",
       "      <td>21.549999</td>\n",
       "      <td>21.549999</td>\n",
       "      <td>21.549999</td>\n",
       "      <td>1340000.0</td>\n",
       "      <td>21.549999</td>\n",
       "      <td>21.960</td>\n",
       "      <td>21.631000</td>\n",
       "      <td>19.489562</td>\n",
       "    </tr>\n",
       "    <tr>\n",
       "      <th>369</th>\n",
       "      <td>1951-06-25</td>\n",
       "      <td>21.290001</td>\n",
       "      <td>21.290001</td>\n",
       "      <td>21.290001</td>\n",
       "      <td>21.290001</td>\n",
       "      <td>2440000.0</td>\n",
       "      <td>21.290001</td>\n",
       "      <td>21.862</td>\n",
       "      <td>21.599000</td>\n",
       "      <td>19.502082</td>\n",
       "    </tr>\n",
       "  </tbody>\n",
       "</table>\n",
       "</div>"
      ],
      "text/plain": [
       "          Date       Open       High        Low      Close     Volume  \\\n",
       "365 1951-06-19  22.020000  22.020000  22.020000  22.020000  1100000.0   \n",
       "366 1951-06-20  21.910000  21.910000  21.910000  21.910000  1120000.0   \n",
       "367 1951-06-21  21.780001  21.780001  21.780001  21.780001  1100000.0   \n",
       "368 1951-06-22  21.549999  21.549999  21.549999  21.549999  1340000.0   \n",
       "369 1951-06-25  21.290001  21.290001  21.290001  21.290001  2440000.0   \n",
       "\n",
       "     Adj Close  mean_Close_5  mean_Close_30  mean_Close_365  \n",
       "365  22.020000        21.800      21.703333       19.447726  \n",
       "366  21.910000        21.900      21.683000       19.462411  \n",
       "367  21.780001        21.972      21.659667       19.476274  \n",
       "368  21.549999        21.960      21.631000       19.489562  \n",
       "369  21.290001        21.862      21.599000       19.502082  "
      ]
     },
     "execution_count": 4,
     "metadata": {},
     "output_type": "execute_result"
    }
   ],
   "source": [
    "df_clean = df.dropna(axis = 0)\n",
    "df_clean.head()"
   ]
  },
  {
   "cell_type": "code",
   "execution_count": 5,
   "id": "70a75bfd",
   "metadata": {},
   "outputs": [
    {
     "data": {
      "text/plain": [
       "(16225, 10)"
      ]
     },
     "execution_count": 5,
     "metadata": {},
     "output_type": "execute_result"
    }
   ],
   "source": [
    "df_clean.shape"
   ]
  },
  {
   "cell_type": "markdown",
   "id": "46b6ef63",
   "metadata": {},
   "source": [
    "## Train and Test"
   ]
  },
  {
   "cell_type": "code",
   "execution_count": 6,
   "id": "c6496809",
   "metadata": {},
   "outputs": [],
   "source": [
    "def train_test(df, features):\n",
    "    train = df[df['Date'] < datetime(year = 2013, month = 1, day = 1)]\n",
    "    test = df[df['Date'] >= datetime(year = 2013, month = 1, day = 1)]\n",
    "    target = 'Close'\n",
    "    \n",
    "    lr = LinearRegression()\n",
    "    lr.fit(train[features], train[target])\n",
    "    predictions = lr.predict(test[features])\n",
    "    \n",
    "    mse = mean_squared_error(predictions, test[target])\n",
    "    rmse = np.sqrt(mse)\n",
    "    return rmse"
   ]
  },
  {
   "cell_type": "code",
   "execution_count": 7,
   "id": "43d9a335",
   "metadata": {},
   "outputs": [
    {
     "data": {
      "text/plain": [
       "22.22006532421986"
      ]
     },
     "execution_count": 7,
     "metadata": {},
     "output_type": "execute_result"
    }
   ],
   "source": [
    "features = list(df_clean.columns)[-3:]\n",
    "rmse = train_test(df_clean, features)\n",
    "rmse"
   ]
  },
  {
   "cell_type": "code",
   "execution_count": 8,
   "id": "87cdac19",
   "metadata": {},
   "outputs": [
    {
     "data": {
      "text/plain": [
       "22.23374935410802"
      ]
     },
     "execution_count": 8,
     "metadata": {},
     "output_type": "execute_result"
    }
   ],
   "source": [
    "df = add_mean_indicator_col(df, 5, 'Volume')\n",
    "df = add_mean_indicator_col(df, 30, 'Volume')\n",
    "df = add_mean_indicator_col(df, 365, 'Volume')\n",
    "df_clean = df.dropna(axis = 0)\n",
    "features = list(df_clean.columns)[-6:]\n",
    "rmse = train_test(df_clean, features)\n",
    "rmse"
   ]
  },
  {
   "cell_type": "markdown",
   "id": "ff1227b0",
   "metadata": {},
   "source": [
    "Using the average values of the past days of the Volume column does not show improvement in prediction. Let's add the following indicators and see the result:\n",
    "- The ratio between the average price for the past 5 days, and the average price for the past 365 days.\n",
    "- The ratio between the standard deviation for the past 5 days, and the standard deviation for the past 365 days."
   ]
  },
  {
   "cell_type": "code",
   "execution_count": 9,
   "id": "43e043ee",
   "metadata": {},
   "outputs": [],
   "source": [
    "df['ratio_mean_close'] = df['mean_Close_5'] / df['mean_Close_365']\n",
    "\n",
    "def add_std_indicator_col(df, num_days, col):\n",
    "    indicator_name = 'std_' + col + '_' + str(num_days)\n",
    "    close_prices = pd.Series(np.array(df[col]), index = np.array(df['Date']))\n",
    "    stds = close_prices.rolling(window = num_days).apply(np.std)\n",
    "    stds = stds.shift()\n",
    "    \n",
    "    stds = stds.reset_index()\n",
    "    stds = stds.rename(columns = {'index': 'Date', 0: indicator_name})\n",
    "    df_new = df.merge(stds, left_on = 'Date', right_on = 'Date')\n",
    "    return df_new\n",
    "\n",
    "df = add_std_indicator_col(df, 5, 'Close')\n",
    "df = add_std_indicator_col(df, 365, 'Close')\n",
    "df['ratio_std_close'] = df['std_Close_5'] / df['std_Close_365']\n",
    "df_clean = df.dropna(axis = 0)"
   ]
  },
  {
   "cell_type": "code",
   "execution_count": 10,
   "id": "6b1d653d",
   "metadata": {},
   "outputs": [
    {
     "data": {
      "text/plain": [
       "Open                0.999900\n",
       "High                0.999953\n",
       "Low                 0.999956\n",
       "Close               1.000000\n",
       "Volume              0.772817\n",
       "Adj Close           1.000000\n",
       "mean_Close_5        0.999793\n",
       "mean_Close_30       0.999189\n",
       "mean_Close_365      0.988870\n",
       "mean_Volume_5       0.780896\n",
       "mean_Volume_30      0.786908\n",
       "mean_Volume_365     0.784878\n",
       "ratio_mean_close    0.047782\n",
       "std_Close_5         0.722414\n",
       "std_Close_365       0.816103\n",
       "ratio_std_close     0.087018\n",
       "Name: Close, dtype: float64"
      ]
     },
     "execution_count": 10,
     "metadata": {},
     "output_type": "execute_result"
    }
   ],
   "source": [
    "df_clean.corr()['Close']"
   ]
  },
  {
   "cell_type": "markdown",
   "id": "5e0fa197",
   "metadata": {},
   "source": [
    "The ratios do not show a significant effect in reducing error.\n",
    "\n",
    "Let's check the Date column by creating the following indicators:\n",
    "- The year component of the date.\n",
    "- The month component of the date.\n",
    "- The day component of the date."
   ]
  },
  {
   "cell_type": "code",
   "execution_count": 11,
   "id": "a5194a0b",
   "metadata": {
    "scrolled": true
   },
   "outputs": [
    {
     "data": {
      "text/plain": [
       "Close               1.000000\n",
       "Adj Close           1.000000\n",
       "Low                 0.999956\n",
       "High                0.999953\n",
       "Open                0.999900\n",
       "mean_Close_5        0.999793\n",
       "mean_Close_30       0.999189\n",
       "mean_Close_365      0.988870\n",
       "year                0.872100\n",
       "std_Close_365       0.816103\n",
       "mean_Volume_30      0.786908\n",
       "mean_Volume_365     0.784878\n",
       "mean_Volume_5       0.780896\n",
       "Volume              0.772817\n",
       "std_Close_5         0.722414\n",
       "ratio_std_close     0.087018\n",
       "ratio_mean_close    0.047782\n",
       "month               0.005684\n",
       "day                -0.001525\n",
       "Name: Close, dtype: float64"
      ]
     },
     "execution_count": 11,
     "metadata": {},
     "output_type": "execute_result"
    }
   ],
   "source": [
    "df['year'] = df['Date'].dt.strftime('%Y').astype(float)\n",
    "df['month'] = df['Date'].dt.strftime('%m').astype(float)\n",
    "df['day'] = df['Date'].dt.strftime('%d').astype(float)\n",
    "\n",
    "df_clean = df.dropna(axis = 0)\n",
    "corr_ = df_clean.corr()['Close'].sort_values(ascending = False)\n",
    "corr_"
   ]
  },
  {
   "cell_type": "code",
   "execution_count": 12,
   "id": "81cae07f",
   "metadata": {},
   "outputs": [
    {
     "data": {
      "text/plain": [
       "21.493341040794412"
      ]
     },
     "execution_count": 12,
     "metadata": {},
     "output_type": "execute_result"
    }
   ],
   "source": [
    "features =  list(corr_[(corr_ > 0.4) & (corr_ <= 0.9998)].index)\n",
    "rmse = train_test(df_clean, features)\n",
    "rmse"
   ]
  },
  {
   "cell_type": "markdown",
   "id": "7ccaaade",
   "metadata": {},
   "source": [
    "## Make predictions only one day ahead\n",
    "For example, train a model using data from 1951-01-03 to 2013-01-02, make predictions for 2013-01-03, and then train another model using data from 1951-01-03 to 2013-01-03, make predictions for 2013-01-04, and so on. This more closely simulates what we'd do if we were trading using the algorithm."
   ]
  },
  {
   "cell_type": "code",
   "execution_count": 13,
   "id": "7d18cf18",
   "metadata": {},
   "outputs": [],
   "source": [
    "def train_test(df, features, row):\n",
    "    train = df[df['Date'] < row['Date']]\n",
    "    test = df[df['Date'] == row['Date']]\n",
    "    \n",
    "    if len(train) == 0:\n",
    "        return np.nan\n",
    "    else:\n",
    "        lr = LinearRegression()\n",
    "        lr.fit(train[features], train['Close'])\n",
    "        predictions = lr.predict(test[features])\n",
    "        \n",
    "        mse = mean_squared_error(predictions, test['Close'])\n",
    "        rmse = np.sqrt(mse)\n",
    "        return rmse"
   ]
  },
  {
   "cell_type": "code",
   "execution_count": 14,
   "id": "23d2abc1",
   "metadata": {},
   "outputs": [
    {
     "data": {
      "text/plain": [
       "5.418363017460899"
      ]
     },
     "execution_count": 14,
     "metadata": {},
     "output_type": "execute_result"
    }
   ],
   "source": [
    "rmses = df_clean.apply(lambda row: train_test(df_clean, features, row), axis = 1)\n",
    "rmse = np.mean(rmses)\n",
    "rmse"
   ]
  },
  {
   "cell_type": "code",
   "execution_count": null,
   "id": "f0a73b0a",
   "metadata": {},
   "outputs": [],
   "source": []
  }
 ],
 "metadata": {
  "kernelspec": {
   "display_name": "Python 3",
   "language": "python",
   "name": "python3"
  },
  "language_info": {
   "codemirror_mode": {
    "name": "ipython",
    "version": 3
   },
   "file_extension": ".py",
   "mimetype": "text/x-python",
   "name": "python",
   "nbconvert_exporter": "python",
   "pygments_lexer": "ipython3",
   "version": "3.8.10"
  }
 },
 "nbformat": 4,
 "nbformat_minor": 5
}
